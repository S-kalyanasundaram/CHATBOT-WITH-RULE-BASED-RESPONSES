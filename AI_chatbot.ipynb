{
  "nbformat": 4,
  "nbformat_minor": 0,
  "metadata": {
    "colab": {
      "provenance": []
    },
    "kernelspec": {
      "name": "python3",
      "display_name": "Python 3"
    },
    "language_info": {
      "name": "python"
    }
  },
  "cells": [
    {
      "cell_type": "code",
      "execution_count": 11,
      "metadata": {
        "id": "BCFMDnJX3gCu"
      },
      "outputs": [],
      "source": [
        "def simple_chatbot(user_input):\n",
        "    user_input = user_input.lower()\n",
        "    responses = {\n",
        "        \"hello\": \"Hi there! How can I help you?\",\n",
        "        \"how are you\": \"I'm just a chatbot, but I'm here to assist you.\",\n",
        "        \"what's your name\": \"I'm just a simple chatbot.\",\n",
        "        \"bye\": \"Goodbye! Have a great day!\",\n",
        "    }\n",
        "\n",
        "    for key in responses:\n",
        "        if key in user_input:\n",
        "            return responses[key]\n",
        "\n",
        "    return \"I'm not sure how to respond to that.\"\n",
        ""
      ]
    },
    {
      "cell_type": "code",
      "source": [
        "print(\"Hello! I'm a simple chatbot. You can chat with me. Type 'bye' to exit.\")"
      ],
      "metadata": {
        "colab": {
          "base_uri": "https://localhost:8080/"
        },
        "id": "jNo0G_6R5J9G",
        "outputId": "384681da-3ea2-456a-89db-9e81ad234af1"
      },
      "execution_count": 12,
      "outputs": [
        {
          "output_type": "stream",
          "name": "stdout",
          "text": [
            "Hello! I'm a simple chatbot. You can chat with me. Type 'bye' to exit.\n"
          ]
        }
      ]
    },
    {
      "cell_type": "code",
      "source": [
        "while True:\n",
        "    user_input = input(\"You: \")\n",
        "    if user_input.lower() == 'bye':\n",
        "        print(\"Chatbot: Goodbye!\")\n",
        "        break\n",
        "    response = simple_chatbot(user_input)\n",
        "    print(\"Chatbot:\", response)"
      ],
      "metadata": {
        "id": "i7HBKuFg4GPI"
      },
      "execution_count": null,
      "outputs": []
    }
  ]
}